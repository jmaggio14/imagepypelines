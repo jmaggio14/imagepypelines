{
  "cells": [
    {
      "cell_type": "code",
      "execution_count": null,
      "metadata": {
        "collapsed": false
      },
      "outputs": [],
      "source": [
        "%matplotlib inline"
      ]
    },
    {
      "cell_type": "markdown",
      "metadata": {},
      "source": [
        "\nHello World!\n============\n\nLearn the basics with Hello World!\n\n"
      ]
    },
    {
      "cell_type": "markdown",
      "metadata": {},
      "source": [
        "At it's core ImagePypelines is just a way to string functions and algorithms\ntogether.\n\n"
      ]
    },
    {
      "cell_type": "code",
      "execution_count": null,
      "metadata": {
        "collapsed": false
      },
      "outputs": [],
      "source": [
        "import imagepypelines as ip\n@ip.blockify(void=True)\ndef print_msg(msg):\n    print(msg)\n\ntasks = {'msg':ip.Input(),\n         'null':(print_msg, 'msg')}\nmsg_printer = ip.Pipeline(tasks)\n\nprocessed = msg_printer.process([\"Hello World!\"])"
      ]
    },
    {
      "cell_type": "markdown",
      "metadata": {},
      "source": [
        "We can pass in any data we want! In this example, we call this function\nonce for every datum passed in\n\n"
      ]
    },
    {
      "cell_type": "code",
      "execution_count": null,
      "metadata": {
        "collapsed": false
      },
      "outputs": [],
      "source": [
        "processed = msg_printer.process(['we','can','print','anything','individually!'])"
      ]
    },
    {
      "cell_type": "markdown",
      "metadata": {},
      "source": [
        "We can also print everything at once with the `batch_type` variable\n-------------------------------------------------------------------\n\n\n"
      ]
    },
    {
      "cell_type": "code",
      "execution_count": null,
      "metadata": {
        "collapsed": false
      },
      "outputs": [],
      "source": [
        "@ip.blockify(batch_type=\"all\", void=True)\ndef print_all(msg):\n    print(msg)\n\ntasks = {'msg':ip.Input(),\n         'null':(print_all, 'msg')}\nprint_all_pipeline = ip.Pipeline(tasks)\n\nprocessed = print_all_pipeline.process(['we','can','print','everything','at','once!'])"
      ]
    }
  ],
  "metadata": {
    "kernelspec": {
      "display_name": "Python 3",
      "language": "python",
      "name": "python3"
    },
    "language_info": {
      "codemirror_mode": {
        "name": "ipython",
        "version": 3
      },
      "file_extension": ".py",
      "mimetype": "text/x-python",
      "name": "python",
      "nbconvert_exporter": "python",
      "pygments_lexer": "ipython3",
      "version": "3.6.8"
    }
  },
  "nbformat": 4,
  "nbformat_minor": 0
}