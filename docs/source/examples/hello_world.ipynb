{
 "cells": [
  {
   "cell_type": "markdown",
   "metadata": {},
   "source": [
    "# Hello World"
   ]
  },
  {
   "cell_type": "code",
   "execution_count": null,
   "metadata": {},
   "outputs": [],
   "source": [
    "import imagepypelines as ip"
   ]
  },
  {
   "cell_type": "code",
   "execution_count": 3,
   "metadata": {},
   "outputs": [
    {
     "name": "stderr",
     "output_type": "stream",
     "text": [
      "2020-04-15 13:12:46,537 | ImagePypelines.Pipeline#42cae8 [     INFO ]: 2 tasks set up; process arguments are (msg)\n"
     ]
    },
    {
     "name": "stdout",
     "output_type": "stream",
     "text": [
      "Hello World!\n",
      "we\n",
      "can\n",
      "print\n",
      "anything\n",
      "individually!\n"
     ]
    }
   ],
   "source": [
    "@ip.blockify(void=True)\n",
    "def print_msg(msg):\n",
    "    print(msg)\n",
    "\n",
    "tasks = {'msg':ip.Input(),\n",
    "         'null':(print_msg, 'msg')}\n",
    "msg_printer = ip.Pipeline(tasks)\n",
    "\n",
    "processed = msg_printer.process([\"Hello World!\"])\n",
    "\n",
    "# Hello World!\n",
    "\n",
    "processed = msg_printer.process(['we','can','print','anything','individually!'])\n"
   ]
  },
  {
   "cell_type": "code",
   "execution_count": 4,
   "metadata": {},
   "outputs": [
    {
     "name": "stderr",
     "output_type": "stream",
     "text": [
      "2020-04-15 13:16:14,448 | ImagePypelines.Pipeline#f49176 [     INFO ]: 2 tasks set up; process arguments are (msg)\n"
     ]
    },
    {
     "name": "stdout",
     "output_type": "stream",
     "text": [
      "['we', 'can', 'print', 'everything', 'at', 'once!']\n"
     ]
    }
   ],
   "source": [
    "@ip.blockify(batch_type=\"all\", void=True)\n",
    "def print_all(msg):\n",
    "    print(msg)\n",
    "\n",
    "tasks = {'msg':ip.Input(),\n",
    "         'null':(print_all, 'msg')}\n",
    "print_all_pipeline = ip.Pipeline(tasks)\n",
    "\n",
    "processed = print_all_pipeline.process(['we','can','print','everything','at','once!'])"
   ]
  },
  {
   "cell_type": "code",
   "execution_count": null,
   "metadata": {},
   "outputs": [],
   "source": []
  }
 ],
 "metadata": {
  "kernelspec": {
   "display_name": "Python 3",
   "language": "python",
   "name": "python3"
  },
  "language_info": {
   "codemirror_mode": {
    "name": "ipython",
    "version": 3
   },
   "file_extension": ".py",
   "mimetype": "text/x-python",
   "name": "python",
   "nbconvert_exporter": "python",
   "pygments_lexer": "ipython3",
   "version": "3.6.8"
  }
 },
 "nbformat": 4,
 "nbformat_minor": 2
}
