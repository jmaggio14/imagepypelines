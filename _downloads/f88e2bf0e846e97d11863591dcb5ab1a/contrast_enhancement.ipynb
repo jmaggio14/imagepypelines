{
  "cells": [
    {
      "cell_type": "code",
      "execution_count": null,
      "metadata": {
        "collapsed": false
      },
      "outputs": [],
      "source": [
        "%matplotlib inline"
      ]
    },
    {
      "cell_type": "markdown",
      "metadata": {},
      "source": [
        "\n# Re-reimplement histogram stretching, matching, and equalization and hist/pdf/cdf\n\n1) Require ip.image\n2) Build image histogram, PDF, and CDF blocks\n2) Build LUT application block\n4) Build a contrast enhancement block\n5) Display comparison of original vs equalized\n\n* We should definitely have a more robust block for doing these with pooling too\n\nNOTE: AMONG US ($5 on steam)\n"
      ]
    },
    {
      "cell_type": "markdown",
      "metadata": {},
      "source": [
        "First let's import our basic libraries\n\n"
      ]
    },
    {
      "cell_type": "code",
      "execution_count": null,
      "metadata": {
        "collapsed": false
      },
      "outputs": [],
      "source": [
        "import numpy as np\nimport matplotlib.pyplot as plt\nimport imagepypelines as ip\nip.require('image')"
      ]
    },
    {
      "cell_type": "markdown",
      "metadata": {},
      "source": [
        "We'll also need to set up a few blocks\n\n"
      ]
    },
    {
      "cell_type": "code",
      "execution_count": null,
      "metadata": {
        "collapsed": false
      },
      "outputs": [],
      "source": [
        "# A block for computing the histogram, pdf, and cdf of an image\n@ip.blockify()\ndef compute_stats(image, bit_depth=8):\n    hist, bins = np.histogram(image, bins=np.linspace(0, (2**bit_depth)+1, (2**bit_depth)+1))\n    pdf = hist / image.size\n    cdf = np.cumsum(pdf)\n    return hist, pdf, cdf\n\n# A quick block for building a histogram equalization look-up table (LUT)\n@ip.blockify()\ndef equalization_LUT(image_cdf, bit_depth=8):\n    target_cdf = np.cumsum(np.ones(2**bit_depth) / 2**bit_depth)\n    lut = np.searchsorted(target_cdf, image_cdf)\n    return lut\n\n# A quick block for applying a LUT to an image\n@ip.blockify()\ndef apply_LUT(image, lut):\n    return lut[image].astype(image.dtype)\n\n# A quick block for plotting original versus stretched histograms\n@ip.blockify(batch_type=\"each\", void=True)\ndef compare_stats(original, equalized):\n    fig = plt.figure()\n    plt.plot(np.linspace(0,len(original)-1,len(original)), original, color='r')\n    plt.plot(np.linspace(0,len(equalized)-1,len(equalized)), equalized, color='b')\n    plt.ion()\n    plt.show()\n\n# stats = compute_stats(ip.image.giza())\n# eq_stats = compute_stats(apply_LUT(ip.image.giza(), equalization_LUT(stats[2])))\n# compare_stats(stats[0], eq_stats[0])\n\ntasks = {\n        # set an entry point for images into the pipeline\n        'images': ip.Input(),\n        # compute image stats\n        ('hists', 'pdfs', 'cdfs'): (compute_stats, 'images'),\n        # construct equalization LUT\n        'LUTs': (equalization_LUT, 'cdfs'),\n        # apply LUT\n        'applied': (apply_LUT, 'images', 'LUTs'),\n        # Scale the images, cast dtype, and view the stretched images\n        # in sequence!\n        'safe': (ip.image.DisplaySafe(), 'applied'),\n        'viewing' : (ip.image.CompareView(pause_for=1000), 'images','safe'),\n        # show graph of hist (red) and eq_hist (blue),\n        ('eq_hists', 'eq_pdfs', 'eq_cdfs'): (compute_stats, 'applied'),\n        'plotted': (compare_stats, 'hists', 'eq_hists')\n        }\n\n# Pipeline setup\ncontrast = ip.Pipeline(tasks)\n\n# Let's grab some example data from the ImagePypelines standard set\nimages = [ip.image.giza(), ip.image.crowd()]\n\n# And let's see some results!\ncontrast(images)"
      ]
    }
  ],
  "metadata": {
    "kernelspec": {
      "display_name": "Python 3",
      "language": "python",
      "name": "python3"
    },
    "language_info": {
      "codemirror_mode": {
        "name": "ipython",
        "version": 3
      },
      "file_extension": ".py",
      "mimetype": "text/x-python",
      "name": "python",
      "nbconvert_exporter": "python",
      "pygments_lexer": "ipython3",
      "version": "3.8.0"
    }
  },
  "nbformat": 4,
  "nbformat_minor": 0
}