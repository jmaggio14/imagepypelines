{
  "cells": [
    {
      "cell_type": "code",
      "execution_count": null,
      "metadata": {
        "collapsed": false
      },
      "outputs": [],
      "source": [
        "%matplotlib inline"
      ]
    },
    {
      "cell_type": "markdown",
      "metadata": {},
      "source": [
        "\n# Add additional tasks to your pipelines\n"
      ]
    },
    {
      "cell_type": "code",
      "execution_count": null,
      "metadata": {
        "collapsed": false
      },
      "outputs": [],
      "source": [
        "import numpy as np\nimport imagepypelines as ip\n\n@ip.blockify()\ndef add1(a, b):\n    return a+1, b+1\n\n@ip.blockify()\ndef subtract1(a, b):\n    return a-1, b-1\n\n@ip.blockify()\ndef average(x1, x2):\n    return (x1 + x2) / 2"
      ]
    },
    {
      "cell_type": "markdown",
      "metadata": {},
      "source": [
        "## Our Example Pipeline\ndon't pay too much attention to this, we're just creating a random meaningless\npipeline\n\n"
      ]
    },
    {
      "cell_type": "code",
      "execution_count": null,
      "metadata": {
        "collapsed": false
      },
      "outputs": [],
      "source": [
        "pipeline = ip.Pipeline({\n                        'a': ip.Input(0),\n                        'b': ip.Input(1),\n                        ('a_plus_1','b_plus_1') : (add1, 'a', 'b'),\n                        ('a_minus_1','b_minus_1') : (subtract1, 'a', 'b'),\n                        }\n                        )"
      ]
    },
    {
      "cell_type": "markdown",
      "metadata": {},
      "source": [
        "## Just call the pipeline's `update` function\n\n"
      ]
    },
    {
      "cell_type": "code",
      "execution_count": null,
      "metadata": {
        "collapsed": false
      },
      "outputs": [],
      "source": [
        "more_tasks = {\n            'average_a': (average,'a_plus_1','a_minus_1'),\n            'average_b': (average,'b_plus_1','b_minus_1'),\n             }\n\npipeline.update(more_tasks)"
      ]
    },
    {
      "cell_type": "markdown",
      "metadata": {},
      "source": [
        "## Let's process some data!\n\n"
      ]
    },
    {
      "cell_type": "code",
      "execution_count": null,
      "metadata": {
        "collapsed": false
      },
      "outputs": [],
      "source": [
        "# Let's create the inputs\na = [10]\nb = [-10]\n\n# process\nprocessed = pipeline.process(a,b)\n\n# and check\nassert processed['average_a'][0] == a[0]\nassert processed['average_b'][0] == b[0]"
      ]
    }
  ],
  "metadata": {
    "kernelspec": {
      "display_name": "Python 3",
      "language": "python",
      "name": "python3"
    },
    "language_info": {
      "codemirror_mode": {
        "name": "ipython",
        "version": 3
      },
      "file_extension": ".py",
      "mimetype": "text/x-python",
      "name": "python",
      "nbconvert_exporter": "python",
      "pygments_lexer": "ipython3",
      "version": "3.8.0"
    }
  },
  "nbformat": 4,
  "nbformat_minor": 0
}