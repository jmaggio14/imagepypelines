{
  "cells": [
    {
      "cell_type": "code",
      "execution_count": null,
      "metadata": {
        "collapsed": false
      },
      "outputs": [],
      "source": [
        "%matplotlib inline"
      ]
    },
    {
      "cell_type": "markdown",
      "metadata": {},
      "source": [
        "\n# Make a plot, save, and show it (with and without blocking)\n\n1) Regular plot show and save\n2) Same but interactive and iterative (plt.ion() -> child threads, multi figs)\n3) Use Bokeh to do some magic in a browser and draw connection to REST endpoint\n        for dashboard. Basically mention how we'll likely use bokeh for graphs.\n"
      ]
    },
    {
      "cell_type": "markdown",
      "metadata": {},
      "source": [
        "First let's import our basic libraries\n\n"
      ]
    },
    {
      "cell_type": "code",
      "execution_count": null,
      "metadata": {
        "collapsed": false
      },
      "outputs": [],
      "source": [
        "import numpy as np\nimport matplotlib.pyplot as plt\nimport imagepypelines as ip"
      ]
    },
    {
      "cell_type": "markdown",
      "metadata": {},
      "source": [
        "We'll also need to set up a few blocks\n\n"
      ]
    },
    {
      "cell_type": "code",
      "execution_count": null,
      "metadata": {
        "collapsed": false
      },
      "outputs": [],
      "source": [
        "# A quick function which plots a line and styles it using plt.plot()'s kwargs\n@ip.blockify(batch_type=\"all\", void=True)  # plot=True -> sets batch type to \"all\" for similar UX? Not sure if worth aliasing\ndef line_plot(x, y, color=\"r\"):\n    fig = plt.figure()\n    plt.plot(x, y, color=color)\n    plt.show()\n\nline_plot_red = line_plot.tweak(color='r')\nline_plot_green = line_plot.tweak(color='g')\nline_plot_blue = line_plot.tweak(color='b')\n\ntasks_verbose = {\"x\": ip.Input(),\n         \"y\": ip.Input(),\n         \"red\": (line_plot_red, \"x\", \"y\"),\n         \"green\": (line_plot_green, \"x\", \"y\"),\n         \"blue\": (line_plot_blue, \"x\", \"y\")\n        }\n\ntasks_tweaked = {\"x\": ip.Input(),\n         \"y\": ip.Input(),\n         \"red\": (line_plot.tweak(color='r'), \"x\", \"y\"),\n         \"green\": (line_plot.tweak(color='g'), \"x\", \"y\"),\n         \"blue\": (line_plot.tweak(color='b'), \"x\", \"y\")\n        }\n\n# Normal functionality\nline_plot([1,2,3], [4,5,6])\n\n# Pipeline functionality - pre-defining separate instances\nplotting = ip.Pipeline(tasks_verbose)\nplotting([1,2,3],[2,4,6])\n\n# Pipeline functionality - defining in place\nplotting = ip.Pipeline(tasks_tweaked)\nplotting([1,2,3],[2,4,6])"
      ]
    }
  ],
  "metadata": {
    "kernelspec": {
      "display_name": "Python 3",
      "language": "python",
      "name": "python3"
    },
    "language_info": {
      "codemirror_mode": {
        "name": "ipython",
        "version": 3
      },
      "file_extension": ".py",
      "mimetype": "text/x-python",
      "name": "python",
      "nbconvert_exporter": "python",
      "pygments_lexer": "ipython3",
      "version": "3.8.0"
    }
  },
  "nbformat": 4,
  "nbformat_minor": 0
}