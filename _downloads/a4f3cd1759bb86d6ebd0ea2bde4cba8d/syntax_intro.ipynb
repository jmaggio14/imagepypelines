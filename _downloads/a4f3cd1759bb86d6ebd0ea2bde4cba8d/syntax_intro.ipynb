{
  "cells": [
    {
      "cell_type": "code",
      "execution_count": null,
      "metadata": {
        "collapsed": false
      },
      "outputs": [],
      "source": [
        "%matplotlib inline"
      ]
    },
    {
      "cell_type": "markdown",
      "metadata": {},
      "source": [
        "\n# Syntax Intro\n\nHow to leverage the syntax of ImagePypelines effectively!\n"
      ]
    },
    {
      "cell_type": "markdown",
      "metadata": {},
      "source": [
        "Let's try blockifying vs using a FuncBlock vs using a Block subclass\n\n"
      ]
    },
    {
      "cell_type": "code",
      "execution_count": null,
      "metadata": {
        "collapsed": false
      },
      "outputs": [],
      "source": [
        "# NOTE: can't blockify built-ins or c-functions *directly* (they don't have a signature!!!)\n\nimport imagepypelines as ip\n\ndef print_msg(msg):\n    print(msg)\n\nprint_msg1 = ip.FuncBlock(print_msg, void=True)\n\n@ip.blockify(void=True)\ndef print_msg2(msg):\n    print(msg)\n\nclass PrintMsg(ip.Block):\n    def __init__(self, **block_kwargs):\n        super().__init__(name=\"PrintMsg\", **block_kwargs)\n    def process(self, msg):\n        print_msg(msg)\n\nprint_msg3 = PrintMsg()\n\nprint_msg(\"Blah blah\")\nprint_msg1(\"Blah1 blah1!\")\nprint_msg2(\"Blah2 blah2!!\")\nprint_msg3.process(\"Blah3 blah3!!!\")\nprint_msg3(\"Blah4 blah4!!!!\")"
      ]
    },
    {
      "cell_type": "markdown",
      "metadata": {},
      "source": [
        "tasks = {'msg':ip.Input(),\n         'null':(print_msg, 'msg')}\n\n\nmsg_printer = ip.Pipeline(tasks)\n\n"
      ]
    },
    {
      "cell_type": "markdown",
      "metadata": {},
      "source": [
        "processed = msg_printer.process([\"Hello World!\"])\n\n"
      ]
    },
    {
      "cell_type": "markdown",
      "metadata": {},
      "source": [
        "We can pass in any data we want! In this example, we call this function\nonce for every datum passed in\nprocessed = msg_printer.process(['we','can','print','anything','individually!'])\n\n"
      ]
    },
    {
      "cell_type": "markdown",
      "metadata": {},
      "source": [
        "## We can also print everything at once with the `batch_type` variable\n\n@ip.blockify(batch_type=\"all\", void=True)\ndef print_all(msg):\n    print(msg)\n\ntasks = {'msg':ip.Input(),\n         'null':(print_all, 'msg')}\nprint_all_pipeline = ip.Pipeline(tasks)\n\nprocessed = print_all_pipeline.process(['we','can','print','everything','at','once!'])\n\n"
      ]
    }
  ],
  "metadata": {
    "kernelspec": {
      "display_name": "Python 3",
      "language": "python",
      "name": "python3"
    },
    "language_info": {
      "codemirror_mode": {
        "name": "ipython",
        "version": 3
      },
      "file_extension": ".py",
      "mimetype": "text/x-python",
      "name": "python",
      "nbconvert_exporter": "python",
      "pygments_lexer": "ipython3",
      "version": "3.8.0"
    }
  },
  "nbformat": 4,
  "nbformat_minor": 0
}