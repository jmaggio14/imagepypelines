{
  "cells": [
    {
      "cell_type": "code",
      "execution_count": null,
      "metadata": {
        "collapsed": false
      },
      "outputs": [],
      "source": [
        "%matplotlib inline"
      ]
    },
    {
      "cell_type": "markdown",
      "metadata": {},
      "source": [
        "\n# Swap Red and Blue Image Channels\n"
      ]
    },
    {
      "cell_type": "code",
      "execution_count": null,
      "metadata": {
        "collapsed": false
      },
      "outputs": [],
      "source": [
        "import numpy as np\nimport imagepypelines as ip\nip.require('image')\nip.set_log_level('debug')"
      ]
    },
    {
      "cell_type": "code",
      "execution_count": null,
      "metadata": {
        "collapsed": false
      },
      "outputs": [],
      "source": [
        "# swap red and blue color channels\n@ip.blockify()\ndef swap_red_and_blue(image):\n    return np.flip(image, axis=2)"
      ]
    },
    {
      "cell_type": "markdown",
      "metadata": {},
      "source": [
        "Define our tasks and build the pipeline\n\n"
      ]
    },
    {
      "cell_type": "code",
      "execution_count": null,
      "metadata": {
        "collapsed": false
      },
      "outputs": [],
      "source": [
        "tasks = {\n        # set an entry point for images into the pipeline\n        'images': ip.Input(),\n        # swap channels\n        'swapped': (swap_red_and_blue, 'images'),\n        # Scale the images, cast dtype, and view the image comparisons!\n        'safe': (ip.image.DisplaySafe(), 'swapped'),\n        'null' : (ip.image.CompareView(pause_for=5000), 'images','safe')\n         }\n\nswap = ip.Pipeline(tasks)"
      ]
    },
    {
      "cell_type": "markdown",
      "metadata": {},
      "source": [
        "## Let's process some data!\n\nLet's grab some example data from the ImagePypelines standard set\n\n"
      ]
    },
    {
      "cell_type": "code",
      "execution_count": null,
      "metadata": {
        "collapsed": false
      },
      "outputs": [],
      "source": [
        "images = [ip.image.panda(), ip.image.gecko(), ip.image.redhat()]\n# Number and view the images!\nprocessed = swap.process(images)"
      ]
    }
  ],
  "metadata": {
    "kernelspec": {
      "display_name": "Python 3",
      "language": "python",
      "name": "python3"
    },
    "language_info": {
      "codemirror_mode": {
        "name": "ipython",
        "version": 3
      },
      "file_extension": ".py",
      "mimetype": "text/x-python",
      "name": "python",
      "nbconvert_exporter": "python",
      "pygments_lexer": "ipython3",
      "version": "3.8.0"
    }
  },
  "nbformat": 4,
  "nbformat_minor": 0
}