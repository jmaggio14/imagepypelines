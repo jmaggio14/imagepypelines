{
  "cells": [
    {
      "cell_type": "code",
      "execution_count": null,
      "metadata": {
        "collapsed": false
      },
      "outputs": [],
      "source": [
        "%matplotlib inline"
      ]
    },
    {
      "cell_type": "markdown",
      "metadata": {},
      "source": [
        "\n# Number and View Images\n\nNumber and view a sequence of images\n"
      ]
    },
    {
      "cell_type": "code",
      "execution_count": null,
      "metadata": {
        "collapsed": false
      },
      "outputs": [],
      "source": [
        "# make sure we have the image plugin\nimport imagepypelines as ip\nip.require('image')"
      ]
    },
    {
      "cell_type": "markdown",
      "metadata": {},
      "source": [
        "define our tasks\n\n"
      ]
    },
    {
      "cell_type": "code",
      "execution_count": null,
      "metadata": {
        "collapsed": false
      },
      "outputs": [],
      "source": [
        "tasks = {\n        # set an entry point for images into the pipeline\n        'images': ip.Input(),\n        # add number to the bottom right corner\n        'numbered': (ip.image.NumberImage(), 'images'),\n        # View the numbered images in sequence\n        'null' : (ip.image.QuickView(pause_for=500), 'numbered')\n         }\n\nviewer = ip.Pipeline(tasks)"
      ]
    },
    {
      "cell_type": "markdown",
      "metadata": {},
      "source": [
        "let's process some data!\n\n"
      ]
    },
    {
      "cell_type": "code",
      "execution_count": null,
      "metadata": {
        "collapsed": false
      },
      "outputs": [],
      "source": [
        "# let's grab some example data from the ImagePypelines standard set\nimages = [ip.image.panda(), ip.image.gecko(), ip.image.redhat()]\n# Number and view the images!\nprocessed = viewer.process(images)"
      ]
    }
  ],
  "metadata": {
    "kernelspec": {
      "display_name": "Python 3",
      "language": "python",
      "name": "python3"
    },
    "language_info": {
      "codemirror_mode": {
        "name": "ipython",
        "version": 3
      },
      "file_extension": ".py",
      "mimetype": "text/x-python",
      "name": "python",
      "nbconvert_exporter": "python",
      "pygments_lexer": "ipython3",
      "version": "3.8.0"
    }
  },
  "nbformat": 4,
  "nbformat_minor": 0
}