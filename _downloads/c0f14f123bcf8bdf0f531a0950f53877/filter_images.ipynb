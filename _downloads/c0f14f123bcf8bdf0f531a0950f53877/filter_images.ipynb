{
  "cells": [
    {
      "cell_type": "code",
      "execution_count": null,
      "metadata": {
        "collapsed": false
      },
      "outputs": [],
      "source": [
        "%matplotlib inline"
      ]
    },
    {
      "cell_type": "markdown",
      "metadata": {},
      "source": [
        "\n# Image Filtering\nLearn how to filter images through a pipeline.\n"
      ]
    },
    {
      "cell_type": "code",
      "execution_count": null,
      "metadata": {
        "collapsed": false
      },
      "outputs": [],
      "source": [
        "# Make sure we have the image plugin\nimport numpy as np\nimport imagepypelines as ip\nip.require('image')"
      ]
    },
    {
      "cell_type": "markdown",
      "metadata": {},
      "source": [
        "Construct our filtering blocks\n\n"
      ]
    },
    {
      "cell_type": "code",
      "execution_count": null,
      "metadata": {
        "collapsed": false
      },
      "outputs": [],
      "source": [
        "# Frequency Filter\n@ip.blockify()\ndef freq_filter(src, kernel):\n    return src * kernel\n\n# Easy \"frequency space\" normalized lowpass filter\n@ip.blockify()\ndef circular_pass_filter(shape, radius=0.1, type='low'):\n    x, y = np.meshgrid(np.linspace(-1, 1, shape[0]), np.linspace(-1, 1, shape[1]))\n    circle = np.sqrt(x*x + y*y)\n\n    if type=='low':\n        return np.where(circle > radius, 0, 1)\n\n    elif type=='high':\n        return np.where(circle > radius, 1, 0)\n\n    else:\n        raise ValueError(\"Filter 'type' must be either 'low' or 'high'\")"
      ]
    },
    {
      "cell_type": "markdown",
      "metadata": {},
      "source": [
        "Define our tasks and build the pipeline\n\n"
      ]
    },
    {
      "cell_type": "code",
      "execution_count": null,
      "metadata": {
        "collapsed": false
      },
      "outputs": [],
      "source": [
        "tasks = {\n        # set an entry point for images into the pipeline\n        'images': ip.Input(),\n        # get the image dimensions for later use\n        'shape': (ip.image.Dimensions(order=\"WHC\"), 'images'),\n        # take the fourier transform\n        'fft': (ip.image.ImageFFT(order=\"WHC\"), 'images'),\n        # produce 'frequency space' circular pass filters\n        'circles': (circular_pass_filter, 'shape'),\n        # add an extra dimension to the filters for broadcasting the arrays\n        'unsqueezed': (ip.image.Unsqueeze(-1), 'circles'),\n        # the convolution of your image and filter is element-wise\n        # multiplication in frequency space!!!\n        'filtered': (freq_filter, 'fft', 'unsqueezed'),\n        # take the inverse fourier transform of your filtered images\n        'ifft': (ip.image.ImageIFFT(order=\"WHC\"), 'filtered'),\n        # Scale the images, cast dtype, and view the filtered images\n        # in sequence! Note: simple filtering in RGB results in artifacts!\n        'safe': (ip.image.DisplaySafe(), 'ifft'),\n        'null' : (ip.image.CompareView(pause_for=500), 'images','safe')\n         }\n\nim_filt = ip.Pipeline(tasks)"
      ]
    },
    {
      "cell_type": "markdown",
      "metadata": {},
      "source": [
        "## Let's process some data!\n\nLet's grab some example data from the ImagePypelines standard set\n\n"
      ]
    },
    {
      "cell_type": "code",
      "execution_count": null,
      "metadata": {
        "collapsed": false
      },
      "outputs": [],
      "source": [
        "images = [ip.image.panda(), ip.image.gecko(), ip.image.redhat()]\n# Number and view the images!\nprocessed = im_filt.process(images)"
      ]
    }
  ],
  "metadata": {
    "kernelspec": {
      "display_name": "Python 3",
      "language": "python",
      "name": "python3"
    },
    "language_info": {
      "codemirror_mode": {
        "name": "ipython",
        "version": 3
      },
      "file_extension": ".py",
      "mimetype": "text/x-python",
      "name": "python",
      "nbconvert_exporter": "python",
      "pygments_lexer": "ipython3",
      "version": "3.8.0"
    }
  },
  "nbformat": 4,
  "nbformat_minor": 0
}